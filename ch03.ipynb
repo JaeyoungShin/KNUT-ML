{
 "cells": [
  {
   "cell_type": "markdown",
   "id": "cd5e0530-5f97-45c8-aced-56392fe86464",
   "metadata": {},
   "source": [
    "### 변수"
   ]
  },
  {
   "cell_type": "code",
   "execution_count": null,
   "id": "6690fc1a-2d92-4dfe-906a-00c93c6a46c5",
   "metadata": {},
   "outputs": [],
   "source": [
    "x = 3\n",
    "print(x)   # 3\n",
    "y = 5\n",
    "print(y)   # 5\n",
    "print(x + y) # 3 + 5 = 8\n",
    "x = 7\n",
    "print(x + y) # 7 + 5 = 12\n",
    "s1 = \"Hello\"\n",
    "s2 = \"world\"\n",
    "print(s1)    # Hello\n",
    "print(s2)    # world\n",
    "print(s1 + s2)  # Helloworld (공백 없이 이어짐)\n",
    "print(s1 + \" \" + s2) # Hello world (공백 포함)"
   ]
  },
  {
   "cell_type": "markdown",
   "id": "b5160d76-589d-4395-bda9-0f0e618764e6",
   "metadata": {},
   "source": [
    "### 리스트(list) : 값을 나열하여 묶음"
   ]
  },
  {
   "cell_type": "code",
   "execution_count": null,
   "id": "cc3b6db3-ef0d-48f8-8338-a50af310a353",
   "metadata": {},
   "outputs": [],
   "source": [
    "# 리스트 생성\n",
    "a = [10, 30, 50, 70, 90]\n",
    "\n",
    "# 리스트 전체 출력\n",
    "print(\"리스트 전체:\", a)\n",
    "\n",
    "# 개별 인덱스 접근\n",
    "print(\"a[0] =\", a[0])  # 첫 번째 원소\n",
    "print(\"a[2] =\", a[2])  # 세 번째 원소\n",
    "\n",
    "# 음수 인덱싱 (뒤에서 접근)\n",
    "print(\"a[-1] =\", a[-1]) # 마지막 원소\n",
    "print(\"a[-2] =\", a[-2]) # 뒤에서 두 번째 원소\n",
    "\n",
    "# 슬라이싱\n",
    "print(\"a[1:4] =\", a[1:4]) # 인덱스 1~3까지\n",
    "\n",
    "# 인덱스 범위 초과 (오류 예시)\n",
    "print(\"a[5] =\", a[5]) # 존재하지 않음"
   ]
  },
  {
   "cell_type": "code",
   "execution_count": null,
   "id": "3b9756a8-7baa-4e04-a739-fee440fa0b00",
   "metadata": {},
   "outputs": [],
   "source": [
    "# 리스트 이어 붙이기\n",
    "a = [10, 30, 50, 70, 90]\n",
    "b = [100, 200, 300]\n",
    "print(\"리스트 a:\", a)\n",
    "print(\"리스트 b:\", b)\n",
    "print(\"a + b =\", a + b)  # 두 리스트 이어 붙이기\n",
    "print(\"-\" * 40)\n",
    "\n",
    "# 값 추가\n",
    "a = [10, 30, 50, 70, 90]\n",
    "print(\"원본 리스트 a:\", a)\n",
    "a.append(110) # 값 하나 추가\n",
    "print(\"append 후 a:\", a)\n",
    "print(\"-\" * 40)\n",
    "\n",
    "# 문자가 포함된 리스트 이어 붙이기\n",
    "x = ['apple', 'banana', 'lemon']\n",
    "y = ['strawberry', 'grape']\n",
    "print(\"리스트 x:\", x)\n",
    "print(\"리스트 y:\", y)\n",
    "print(\"x + y =\", x + y)  # 문자열 리스트 이어 붙이기"
   ]
  },
  {
   "cell_type": "markdown",
   "id": "8edc36e9-f117-4d20-be82-25eb13fe269b",
   "metadata": {},
   "source": [
    "### 조건문 \n",
    "##### 특정한 조건이 충족되면 지정된 명령문들을 수행하되, 조건이 만족되지 않으면 해당 명령문들을 수행하지 않도록 함"
   ]
  },
  {
   "cell_type": "code",
   "execution_count": null,
   "id": "ce18872b-b215-4158-b426-cbf9ab86992f",
   "metadata": {},
   "outputs": [],
   "source": [
    "age = int(input('나이를 입력하세요: '))\n",
    "print('<Drink Menu>')\n",
    "print('1. 콜라')\n",
    "print('2. 사이다')\n",
    "\n",
    "# 나이가 20세 이상일 경우에만 주류 메뉴 표시\n",
    "if age >= 20:\n",
    "  print('3. 맥주')\n",
    "  print('4. 소주')\n",
    "print('메뉴를 선택해 주세요')\n"
   ]
  },
  {
   "cell_type": "code",
   "execution_count": null,
   "id": "c5440a09-5c35-491e-a7bb-4376651854f6",
   "metadata": {},
   "outputs": [],
   "source": [
    "# if ... else 문\n",
    "\n",
    "age = int(input('나이를 입력하세요: '))\n",
    "print('<Drink Menu>')\n",
    "print('1. 콜라')\n",
    "print('2. 사이다')\n",
    "\n",
    "# 나이가 20세 이상일 경우에만 주류 메뉴 표시\n",
    "if age >= 20:\n",
    "  print('3. 맥주')\n",
    "  print('4. 소주')\n",
    "else:\n",
    "  print('3. 오렌지주스')\n",
    "print('메뉴를 선택해 주세요')"
   ]
  },
  {
   "cell_type": "markdown",
   "id": "92e1e9a9-745d-45a0-bd33-6c57812fb953",
   "metadata": {},
   "source": [
    "### 반복문: 반복적인 기능을 수행함"
   ]
  },
  {
   "cell_type": "code",
   "execution_count": null,
   "id": "f6b32a70-561f-4380-b585-d8e773c5b149",
   "metadata": {},
   "outputs": [],
   "source": [
    "# while 문\n",
    "\n",
    "i = 1\n",
    "while i <= 10:    # i가 10 이하일 동안 반복\n",
    "  print(i)     # 현재 i 값 출력\n",
    "  i = i + 1     # i 값을 1 증가시킴\n",
    "print('end!')     # 반복문 종료 후 실행"
   ]
  },
  {
   "cell_type": "code",
   "execution_count": null,
   "id": "0d2008ac-c5ca-423d-840f-96aa1761f02b",
   "metadata": {},
   "outputs": [],
   "source": [
    "# 무한 루프 탈출\n",
    "\n",
    "# Fibonacci 수열로 황금비 계산\n",
    "a = 1; b = 1\n",
    "print(a); print(b)\n",
    "while True:\n",
    "  c = a + b\n",
    "  print(c, c / b)  # 현재 피보나치 수, 직전 수로 나눈 비율(≈ 황금비)\n",
    "  \n",
    "  if c > 100000:  # 100000보다 크면 반복 종료\n",
    "    break  \n",
    "  a = b\n",
    "  b = c\n",
    "print(\"프로그램 끝\")"
   ]
  },
  {
   "cell_type": "code",
   "execution_count": null,
   "id": "3e923c5a-eed5-483a-8415-96196e06ce91",
   "metadata": {},
   "outputs": [],
   "source": [
    "# for 문\n",
    "\n",
    "# 리스트 순회\n",
    "fruits = ['apple', 'banana', 'lemon']\n",
    "for x in fruits:\n",
    "  print(x)\n",
    "print('프로그램 끝!')\n",
    "print(\"-\" * 40)\n",
    "\n",
    "# range()로 숫자 출력\n",
    "for i in range(11):  # 0부터 10까지\n",
    "  print(i)\n",
    "print(\"-\" * 40)\n",
    "\n",
    "# 합계 구하기\n",
    "s = 0\n",
    "for i in range(101):  # 0부터 100까지\n",
    "  print(i)\n",
    "  s = s + i\n",
    "print('합계는', s)"
   ]
  },
  {
   "cell_type": "code",
   "execution_count": null,
   "id": "38c71b5e-f469-451b-9d1f-f5cecc632e78",
   "metadata": {},
   "outputs": [],
   "source": [
    "# for 중첩문\n",
    "\n",
    "# 구구단 출력\n",
    "for i in range(2, 10):    # 2단부터 9단까지\n",
    "  for j in range(1, 10):  # 각 단에서 1~9까지 곱하기\n",
    "    print(i, '*', j, '=', i * j)"
   ]
  },
  {
   "cell_type": "markdown",
   "id": "f286e9e1-eccc-4297-984a-321a30c22181",
   "metadata": {},
   "source": [
    "### 함수\n",
    "##### 프로그램을 모듈(module) 단위로 구현\n",
    "##### 인자(입력값, argument)를 전달받아 특정 기능을 수행 후 결과를 반환(return)"
   ]
  },
  {
   "cell_type": "code",
   "execution_count": null,
   "id": "239602e8-86b5-45e3-b8bf-2ff98f77857c",
   "metadata": {},
   "outputs": [],
   "source": [
    "# 매개변수 1개\n",
    "def multiplier_single(a):\n",
    "  a = a * 100\n",
    "  return a\n",
    "    \n",
    "print(\"출력결과:\", multiplier_single(2))  # 2 * 100 = 200\n",
    "print(\"-\" * 40)"
   ]
  },
  {
   "cell_type": "code",
   "execution_count": null,
   "id": "da6e8ac9-530d-44e2-a22d-7bb80ade5f8b",
   "metadata": {},
   "outputs": [],
   "source": [
    "# 매개변수 2개\n",
    "def multiplier_double(a, b):\n",
    "  y = a + b + a * b\n",
    "  return y\n",
    "    \n",
    "print(\"hello\")\n",
    "a = 10; b = 20\n",
    "print(\"출력결과:\", multiplier_double(a, b)) # 10 + 20 + 10*20 = 230"
   ]
  },
  {
   "cell_type": "markdown",
   "id": "84fac6c0-c904-49ba-b788-09029d4b4479",
   "metadata": {},
   "source": [
    "### 판다스\n",
    "##### 표 형식의 데이터 분석 및 처리, 다양한 파일 입출력 가능\n",
    "##### 데이터 프레임 형식으로 데이터 불러오기"
   ]
  },
  {
   "cell_type": "code",
   "execution_count": null,
   "id": "cda0a08c-dee6-40f7-a54f-45efbdd8f8d7",
   "metadata": {},
   "outputs": [],
   "source": [
    "# 데이터 불러오기\n",
    "\n",
    "import pandas as pandas\n",
    "data = pd.read_csv('scores.csv')\n",
    "\n",
    "print(data)"
   ]
  },
  {
   "cell_type": "code",
   "execution_count": null,
   "id": "73a2068e-d56b-44d5-b154-e1529ac74bf8",
   "metadata": {},
   "outputs": [],
   "source": [
    "# 데이터 추출과 그룹화\n",
    "\n",
    "# 특정 조건을 만족하는 행을 추출\n",
    "import pandas as pd\n",
    "data = pd.read_csv('scores.csv')\n",
    "\n",
    "print(data.loc[data['Kor']>=80])"
   ]
  },
  {
   "cell_type": "code",
   "execution_count": null,
   "id": "bdb15786-40ff-49ba-a22f-915399534333",
   "metadata": {},
   "outputs": [],
   "source": [
    "# loc을 사용한 특정 행, 열 선택\n",
    "\n",
    "import pandas as pandas\n",
    "data = pd.read_csv('scores.csv')\n",
    "\n",
    "print(data.loc[data['Kor']>=80])\n",
    "print(data.loc[data['Kor']>=80, 'Name'])"
   ]
  },
  {
   "cell_type": "code",
   "execution_count": null,
   "id": "3786f403-d872-4216-9800-0c1389a57520",
   "metadata": {},
   "outputs": [],
   "source": [
    "# 국어 점수가 80점 이상인 학생들의 국어 점수 1점 추가\n",
    "\n",
    "import pandas as pd\n",
    "\n",
    "data = pd.read_csv('scores.csv')\n",
    "\n",
    "print(data)\n",
    "\n",
    "# 국어 점수가 80점 이상인 경우, 1점 보너스 추가\n",
    "data.loc[data['Kor'] >= 80, 'Kor'] += 1\n",
    "\n",
    "print(\"<보너스 점수 반영>\")\n",
    "print(data)"
   ]
  },
  {
   "cell_type": "markdown",
   "id": "8cb3149e-11ac-4900-ac6c-a3bcb18e72a3",
   "metadata": {},
   "source": [
    "### groupby\n",
    "##### 데이터를 특정 기준(열 값)으로 그룹화한 뒤, 각 그룹에 대해 집계(aggregate), 변환(transform), 필터(filter) 등의 연산을 수행"
   ]
  },
  {
   "cell_type": "code",
   "execution_count": null,
   "id": "868d2942-5307-4a5b-bc6d-7118b1f07236",
   "metadata": {},
   "outputs": [],
   "source": [
    "groups = data.groupby('Gender')"
   ]
  },
  {
   "cell_type": "code",
   "execution_count": null,
   "id": "b87c9151-59c0-4e11-97e8-c093c33f721f",
   "metadata": {},
   "outputs": [],
   "source": [
    "# groups 변수 안에서 각 그룹 확인\n",
    "\n",
    "import pandas as pd\n",
    "data = pd.read_csv('scores.csv')\n",
    "\n",
    "# 성별(Gender) 기준으로 그룹화\n",
    "groups = data.groupby('Gender')\n",
    "\n",
    "# 그룹별 출력\n",
    "for g, d in groups:\n",
    "  print('성별:', g)\n",
    "  print(d)\n",
    "  print('-----------------------------------')"
   ]
  },
  {
   "cell_type": "markdown",
   "id": "83b439d6-83d8-465e-b805-627f12d1abbe",
   "metadata": {},
   "source": [
    "### 데이터 프레임에서 통계량 산출"
   ]
  },
  {
   "cell_type": "code",
   "execution_count": null,
   "id": "1ed5039c-ad77-4bd1-a6d6-68318c53755a",
   "metadata": {},
   "outputs": [],
   "source": [
    "# 데이터 불러오기\n",
    "import pandas as pd\n",
    "data = pd.read_csv('scores.csv')"
   ]
  },
  {
   "cell_type": "code",
   "execution_count": null,
   "id": "e78c3afc-46df-4cc9-953d-34ef77ac85e9",
   "metadata": {},
   "outputs": [],
   "source": [
    "# 각 학생의 평균 점수 계산\n",
    "\n",
    "# 각 행(row)을 순회하면서 평균 계산\n",
    "for i in range(len(data)):\n",
    "  row = data.iloc[i]  # i번째 행 선택\n",
    "  avg = (row['Kor'] + row['Eng'] + row['Math']) / 3\n",
    "  print(avg)"
   ]
  },
  {
   "cell_type": "code",
   "execution_count": null,
   "id": "c1a34160-53d6-400e-bb63-68e709188002",
   "metadata": {},
   "outputs": [],
   "source": [
    "# 계산한 평균값을 데이터 프레임에 추가\n",
    "\n",
    "avgList = [] # 평균 점수를 저장할 리스트\n",
    "\n",
    "# 각 행(row)마다 평균 점수 계산\n",
    "for i in range(len(data)):\n",
    "  row = data.iloc[i]\n",
    "  avg = (row['Kor'] + row['Eng'] + row['Math']) / 3\n",
    "  avgList.append(avg)\n",
    "print(avgList)\n",
    "print('-----------------------------------')\n",
    "\n",
    "# 새로운 컬럼 추가\n",
    "data['Average'] = avgList\n",
    "print(data)\n"
   ]
  },
  {
   "cell_type": "code",
   "execution_count": null,
   "id": "807bc16d-72cb-4496-9ff7-92a3b13330f3",
   "metadata": {},
   "outputs": [],
   "source": [
    "# 데이터프레임을 엑셀 파일로 저장\n",
    "\n",
    "data.to_csv('score2.csv', index=False)"
   ]
  },
  {
   "cell_type": "markdown",
   "id": "72075687-0f3b-436f-bbf1-4ce2aa36e7d2",
   "metadata": {},
   "source": [
    "### 넘파이\n",
    "##### 벡터·행렬 연산을 지원하는 라이브러리"
   ]
  },
  {
   "cell_type": "code",
   "execution_count": null,
   "id": "856d7e7f-acb8-4f4f-8619-a0768704de26",
   "metadata": {},
   "outputs": [],
   "source": [
    "# 행렬 연산 예시\n",
    "\n",
    "import numpy as np\n",
    "c = np.array([1, 2, 3])\n",
    "d = np.array([2, 3, 5])\n",
    "\n",
    "# 방법 1: np.dot() 사용\n",
    "print(np.dot(c, d))\n",
    "\n",
    "# 방법 2: ndarray의 dot 메서드 사용\n",
    "print(c.dot(d)"
   ]
  },
  {
   "cell_type": "code",
   "execution_count": null,
   "id": "49aacf5d-a297-4c35-a6c3-9f8c336a5da4",
   "metadata": {},
   "outputs": [],
   "source": [
    "# 다차원 행렬 생성 및 행렬의 특정 요소 출력\n",
    "\n",
    "# 다차원 행렬 생성\n",
    "a = np.array([[2, 4, 6], [3, 5, 7]])\n",
    "\n",
    "print(a)\n",
    "print(\"행렬 형태:\", a.shape)\n",
    "print(\"----------------------------------\")\n",
    "\n",
    "# 행렬의 특정 요소 출력\n",
    "print(a[0, 0]) # 첫 번째 행, 첫 번째 열 → 2\n",
    "print(a[0, 2]) # 첫 번째 행, 세 번째 열 → 6\n",
    "print(a[1, 1]) # 두 번째 행, 두 번째 열 → 5"
   ]
  },
  {
   "cell_type": "code",
   "execution_count": null,
   "id": "098a7a8a-f263-45bb-a7ef-d6428db088d1",
   "metadata": {},
   "outputs": [],
   "source": [
    "# 요소별 사칙 연산\n",
    "\n",
    "# 두 개의 행렬 정의\n",
    "a = np.array([[1, 2, 3], [4, 5, 6]])\n",
    "b = np.array([[2, 4, 6], [3, 5, 7]])\n",
    "\n",
    "# 행렬의 원소별 연산\n",
    "print(\"a+b =\\n\", a + b)  # 덧셈\n",
    "print(\"a-b =\\n\", a - b)  # 뺄셈\n",
    "print(\"a*b =\\n\", a * b)  # 원소별 곱셈\n",
    "print(\"a/b =\\n\", a / b)  # 원소별 나눗셈"
   ]
  },
  {
   "cell_type": "code",
   "execution_count": null,
   "id": "f537fd83-8b76-42d8-b1fd-8ae9a5f2a217",
   "metadata": {},
   "outputs": [],
   "source": [
    "# 행렬곱 연산 (에러 발생)\n",
    "\n",
    "# 두 개의 행렬 정의\n",
    "a = np.array([[1, 2, 3], [4, 5, 6]])\n",
    "b = np.array([[2, 4, 6], [3, 5, 7]])\n",
    "\n",
    "# 행렬곱 연산\n",
    "print(np.dot(a,b))"
   ]
  },
  {
   "cell_type": "code",
   "execution_count": null,
   "id": "45cf00d5-b85b-4e55-b0dc-fa8181ddf3f6",
   "metadata": {},
   "outputs": [],
   "source": [
    "# 전치 연산(transpose)을 통한 차원 조정\n",
    "\n",
    "a = np.array([[1, 2, 3], [4, 5, 6]])\n",
    "b = np.array([[2, 4, 6], [3, 5, 7]])\n",
    "b = np.transpose(b)\n",
    "\n",
    "print(a)\n",
    "print(b)\n",
    "print(np.dot(a,b))"
   ]
  },
  {
   "cell_type": "code",
   "execution_count": null,
   "id": "bcabbe90-7f58-4361-9e55-927e01efa505",
   "metadata": {},
   "outputs": [],
   "source": [
    "# 단위 행렬 & 역행렬\n",
    "\n",
    "# 단위 행렬\n",
    "id = np.eye(3)\n",
    "print(id)\n",
    "\n",
    "# 역행렬\n",
    "a = np.array([[1,2],[3,4]])\n",
    "b = np.linalg.inv(a)\n",
    "\n",
    "print(a)\n",
    "print(b)\n",
    "print(np.dot(a,b))"
   ]
  },
  {
   "cell_type": "code",
   "execution_count": null,
   "id": "8e9f6c0f-5e47-408f-9807-774ca87e4b8d",
   "metadata": {},
   "outputs": [],
   "source": [
    "# 영행렬\n",
    "zero = np.zeros((3,5))\n",
    "print(zero)"
   ]
  },
  {
   "cell_type": "code",
   "execution_count": null,
   "id": "ac51683e-6ce3-4afb-bf24-6d3531b3829c",
   "metadata": {},
   "outputs": [],
   "source": [
    "# 동일한 값으로 구성되어 있는 행렬\n",
    "full = np.full((3,5), 7)\n",
    "print(full)"
   ]
  },
  {
   "cell_type": "markdown",
   "id": "0adfb605-c1a9-46fb-ba3d-c80f2a8f4bb5",
   "metadata": {},
   "source": [
    "### 데이터의 다양한 통계치 계산"
   ]
  },
  {
   "cell_type": "code",
   "execution_count": null,
   "id": "cafe2490-b827-4d15-a088-e5c820de4e0a",
   "metadata": {},
   "outputs": [],
   "source": [
    "import numpy as np\n",
    "\n",
    "a = np.array([1, 2, 3, 5, 9])\n",
    "\n",
    "# 기본 통계량 계산\n",
    "print(\"평균: \", np.mean(a))   # 평균값\n",
    "print(\"표준편차: \", np.std(a))  # 표준편차\n",
    "print(\"중앙값: \", np.median(a)) # 중앙값\n",
    "print(\"최소값: \", np.min(a))   # 최소값\n",
    "print(\"최대값: \", np.max(a))   # 최대값"
   ]
  },
  {
   "cell_type": "markdown",
   "id": "e891e4fc-ce0a-4d87-aff0-1cb6e46e0786",
   "metadata": {},
   "source": [
    "### 넘파이 실습"
   ]
  },
  {
   "cell_type": "code",
   "execution_count": null,
   "id": "18bfa9a3-0bd7-4ddd-8e91-158e51805a93",
   "metadata": {},
   "outputs": [],
   "source": [
    "# 넘파이 배열의 특성 확인\n",
    "import numpy as np\n",
    "\n",
    "a = np.array([1, 2, 3])\n",
    "\n",
    "print(\"shape :\", a.shape)   # 형태\n",
    "print(\"ndim :\", a.ndim)    # 차원 수\n",
    "print(\"dtype :\", a.dtype)   # 자료형\n",
    "print(\"itemsize :\", a.itemsize) # 요소 크기 (byte)\n",
    "print(\"size :\", a.size)    # 전체 요소 수"
   ]
  },
  {
   "cell_type": "code",
   "execution_count": null,
   "id": "49e94733-4c13-4743-9166-906b4a663c7b",
   "metadata": {},
   "outputs": [],
   "source": [
    "# 브로드캐스팅 (broadcasting)\n",
    "\n",
    "sal = np.array([240, 260, 220, 255])\n",
    "sal = sal + 100 # 스칼라 100이 배열 [100,100,100,100]으로 확장되어 더해짐\n",
    "\n",
    "print(sal)"
   ]
  },
  {
   "cell_type": "code",
   "execution_count": null,
   "id": "f9046e35-c66c-45ba-84ea-82935edd1c3e",
   "metadata": {},
   "outputs": [],
   "source": [
    "# 슬라이싱\n",
    "\n",
    "scores = np.array([58, 72, 93, 94, 89, 78, 99])\n",
    "print(\"원본 배열:\", scores)\n",
    "\n",
    "# 인덱스 3부터 끝까지 슬라이싱\n",
    "print(\"scores[3:]:\", scores[3:])  # [94 89 78 99]\n",
    "\n",
    "# 인덱스 4부터 -1까지 슬라이싱\n",
    "print(\"scores[4:-1]:\", scores[4:-1]) # [89 78]"
   ]
  },
  {
   "cell_type": "code",
   "execution_count": null,
   "id": "d249b9a9-088a-4708-9778-0fcd9feb1ca7",
   "metadata": {},
   "outputs": [],
   "source": [
    "# 다차원 배열 생성 및 배열 요소 접근\n",
    "\n",
    "np_array = np.array([\n",
    "  [1, 2, 3],\n",
    "  [4, 5, 6],\n",
    "  [7, 8, 9]\n",
    "])\n",
    "\n",
    "print(\"\\n2차원 배열:\\n\", np_array)\n",
    "\n",
    "# 요소 접근 (0행 2열)\n",
    "print(\"np_array[0, 2] =\", np_array[0, 2])"
   ]
  },
  {
   "cell_type": "code",
   "execution_count": null,
   "id": "49089d3b-fd34-43ba-a82a-b5eaa0726278",
   "metadata": {},
   "outputs": [],
   "source": [
    "# 다차원 배열 슬라이싱\n",
    "\n",
    "np_array = np.array([\n",
    "  [1, 2, 3, 4],\n",
    "  [5, 6, 7, 8],\n",
    "  [9, 10, 11, 12],\n",
    "  [13, 14, 15, 16]\n",
    "])\n",
    "\n",
    "print(\"원본 배열:\\n\", np_array)"
   ]
  },
  {
   "cell_type": "code",
   "execution_count": null,
   "id": "40c91e6e-8c97-4785-980a-73ea912e268e",
   "metadata": {},
   "outputs": [],
   "source": [
    "# 0~1행, 2~3열 선택 (슬라이싱)\n",
    "\n",
    "sub_array = np_array[0:2, 2:4]\n",
    "print(\"\\n슬라이싱 결과:\\n\", sub_array)"
   ]
  },
  {
   "cell_type": "code",
   "execution_count": null,
   "id": "d1686d2b-a42e-46dc-afcd-0afd702392a7",
   "metadata": {},
   "outputs": [],
   "source": [
    "# 벡터화 계산 (요소별 곱)\n",
    "\n",
    "values = np.random.rand(100)  # 0~1 사이의 난수 100개\n",
    "weights = np.random.rand(100) # 0~1 사이의 난수 100개\n",
    "\n",
    "# 요소별 곱\n",
    "weighted_values = values * weights \n",
    "print(\"\\nvalues[:5] =\", values[:5])"
   ]
  },
  {
   "cell_type": "code",
   "execution_count": null,
   "id": "e4fe0281-340e-45ed-bdf1-4419c20d62e3",
   "metadata": {},
   "outputs": [],
   "source": [
    "# 1차원 배열 논리 인덱싱\n",
    "\n",
    "ages = np.array([18, 19, 25, 30, 28])\n",
    "\n",
    "# 조건을 만족하는 불리언 배열 생성\n",
    "y = ages > 20\n",
    "print(\"조건(ages > 20):\", y)"
   ]
  },
  {
   "cell_type": "code",
   "execution_count": null,
   "id": "7a3af9b0-cff5-48d7-bd66-f3c8299ef02b",
   "metadata": {},
   "outputs": [],
   "source": [
    "# 조건을 만족하는 값만 추출\n",
    "\n",
    "print(\"20세 초과 값:\", ages[ages > 20])"
   ]
  },
  {
   "cell_type": "code",
   "execution_count": null,
   "id": "53e1d570-1994-4a0f-8deb-d077fdcb657b",
   "metadata": {},
   "outputs": [],
   "source": [
    "# 2차원 배열 논리 인덱싱\n",
    "\n",
    "np_array = np.array([\n",
    "  [1, 2, 3],\n",
    "  [4, 5, 6],\n",
    "  [7, 8, 9]\n",
    "])"
   ]
  },
  {
   "cell_type": "code",
   "execution_count": null,
   "id": "ede65bc1-dd26-4017-85dd-4f91c0da2b6d",
   "metadata": {},
   "outputs": [],
   "source": [
    "# 조건 (각 요소 > 5)\n",
    "cond = np_array > 5\n",
    "print(\"\\n조건(np_array > 5):\\n\", cond)"
   ]
  },
  {
   "cell_type": "code",
   "execution_count": null,
   "id": "80707d75-7868-4220-91eb-820f26752c57",
   "metadata": {},
   "outputs": [],
   "source": [
    "# 조건을 만족하는 요소만 추출\n",
    "print(\"5보다 큰 값:\", np_array[np_array > 5]) "
   ]
  },
  {
   "cell_type": "markdown",
   "id": "8819343f-d8f0-45e4-9f2a-87099662dd1f",
   "metadata": {},
   "source": [
    "### 판다스 실습"
   ]
  },
  {
   "cell_type": "code",
   "execution_count": null,
   "id": "c1dceffb-8fab-4d5a-b1ef-48ccc1c4c8de",
   "metadata": {},
   "outputs": [],
   "source": [
    "# 시리즈(series) 데이터 생성\n",
    "import numpy as np\n",
    "import pandas as pd\n",
    "\n",
    "series = pd.Series([1, 3, np.nan, 4]) # np.nan은 결측값\n",
    "\n",
    "print(series)"
   ]
  },
  {
   "cell_type": "code",
   "execution_count": null,
   "id": "47e00b53-f18b-45dd-9edd-b0cb7fc17b20",
   "metadata": {},
   "outputs": [],
   "source": [
    "# 데이터프레임(dataframe) 생성\n",
    "\n",
    "# 시리즈를 모으면 데이터프레임 생성 가능\n",
    "# 데이터프레임은 key와 value로 구성됨 (예: key: 이름 / value : name_series)\n",
    "name_series = pd.Series(['김수안', '김수정', '박동운', '강이안', '강자인', '박동민'])\n",
    "age_series = pd.Series([19, 23, 22, 19, 16, 25])\n",
    "school_series = pd.Series(['고교', '대학', '대학', '고교', '중학교', '대학원'])\n",
    "grade_series = pd.Series([4.35, 4.23, 4.25, 4.37, 4.25, 4.5])\n",
    "\n",
    "print(name_series, age_series, school_series, grade_series)"
   ]
  },
  {
   "cell_type": "code",
   "execution_count": null,
   "id": "672b17eb-ea61-4550-8b58-a13789c7ac73",
   "metadata": {},
   "outputs": [],
   "source": [
    "# DataFrame 생성\n",
    "\n",
    "df = pd.DataFrame({\n",
    "    '이름': name_series, '나이': age_series, '학교': school_series, '평점': grade_series})\n",
    "\n",
    "print(\"\\n데이터프레임:\")\n",
    "print(df)"
   ]
  },
  {
   "cell_type": "code",
   "execution_count": null,
   "id": "73f4fed3-cc70-41a7-846f-5f363363e728",
   "metadata": {},
   "outputs": [],
   "source": [
    "# 데이터 불러오기\n",
    "\n",
    "import pandas as pd\n",
    "\n",
    "path = 'https://github.com/dknife/ML/raw/main/data/'\n",
    "file = path + 'vehicle_prod.csv'\n",
    "\n",
    "df = pd.read_csv(file)\n",
    "\n",
    "# DataFrame 출력\n",
    "print(df)"
   ]
  },
  {
   "cell_type": "code",
   "execution_count": null,
   "id": "d3389563-af71-4edf-bf06-0f8402237731",
   "metadata": {},
   "outputs": [],
   "source": [
    "# 첫 번째 열을 인덱스로 지정\n",
    "\n",
    "df = pd.read_csv(file, index_col=0)\n",
    "print(df)"
   ]
  },
  {
   "cell_type": "code",
   "execution_count": null,
   "id": "13df1f48-6a48-405f-9e1c-030fb3ce90c7",
   "metadata": {},
   "outputs": [],
   "source": [
    "# 데이터 시각화하기 (barchart)\n",
    "\n",
    "import pandas as pd\n",
    "import matplotlib.pyplot as plt\n",
    "\n",
    "path = 'https://github.com/dknife/ML/raw/main/data/'\n",
    "file = path + 'vehicle_prod.csv'\n",
    "df = pd.read_csv(file)\n",
    "\n",
    "# 2009년 데이터 막대 그래프\n",
    "df['2009'].plot(kind='bar', color=('orange', 'r', 'b', 'm', 'c', 'k'))"
   ]
  },
  {
   "cell_type": "code",
   "execution_count": null,
   "id": "d227ca89-09c7-4c3b-b17f-7460e5369683",
   "metadata": {},
   "outputs": [],
   "source": [
    "# pie chart\n",
    "\n",
    "df['2009'].plot(kind='pie')"
   ]
  },
  {
   "cell_type": "code",
   "execution_count": null,
   "id": "2b41fa66-6e14-4b0a-b67f-d410172dd137",
   "metadata": {},
   "outputs": [],
   "source": [
    "# 데이터 확인 (head)\n",
    "\n",
    "df.hear(3)"
   ]
  },
  {
   "cell_type": "code",
   "execution_count": null,
   "id": "3f13e6fa-af80-430e-a82b-434a90d27c5b",
   "metadata": {},
   "outputs": [],
   "source": [
    "# 슬라이싱 : 규칙 첫 인덱스부터 (끝-1) 인덱스까지 슬라이싱\n",
    "df[2:6]\n",
    "\n",
    "# 열선택\n",
    "df.loc['Korea']\n",
    "\n",
    "# 열과 행 선택\n",
    "df.loc['2011'][[0, 4]]\n",
    "\n",
    "# 특정 요소 선택\n",
    "df.loc['Korea' '2011']"
   ]
  },
  {
   "cell_type": "code",
   "execution_count": null,
   "id": "e97e1bd6-9937-4a5f-9d81-77473919576c",
   "metadata": {},
   "outputs": [],
   "source": [
    "# 행(axis=1)의 구성 요소의 합계 및 새로운 열 생성\n",
    "\n",
    "# 각 행(row) 합계를 새로운 열 'total'로 추가\n",
    "df['total'] = df.sum(axis=1) # 열의 구성 요소의 합계는 axis=0\n",
    "print(df)"
   ]
  },
  {
   "cell_type": "code",
   "execution_count": null,
   "id": "17a2485d-d6b7-48d1-b99c-4c4a46f6e35b",
   "metadata": {},
   "outputs": [],
   "source": [
    "# 분석 데이터 불러오기\n",
    "\n",
    "path = 'https://github.com/dknife/ML/raw/main/data/'\n",
    "weather_file = path + 'weather.csv'\n",
    "\n",
    "# CSV 파일 읽기\n",
    "# 첫 번째 열(index_col=0)을 인덱스로 사용\n",
    "# 코딩을 CP949(윈도우 한글 인코딩)로 지정\n",
    "weather = pd.read_csv(weather_file, index_col=0, encoding='CP949')\n",
    "\n",
    "# 상위 3개 행 출력\n",
    "print(weather.head(3))"
   ]
  },
  {
   "cell_type": "code",
   "execution_count": null,
   "id": "879f8a6f-a024-4694-8d9f-96c888d5340f",
   "metadata": {},
   "outputs": [],
   "source": [
    "# 데이터 크기(행, 열)\n",
    "\n",
    "print(\"weather 데이터의 shape:\", weather.shape)"
   ]
  },
  {
   "cell_type": "code",
   "execution_count": null,
   "id": "e40e8d83-5f40-48fd-865d-debb4587bd42",
   "metadata": {},
   "outputs": [],
   "source": [
    "# 간단한 분석\n",
    "\n",
    "print(weather.describe())"
   ]
  },
  {
   "cell_type": "code",
   "execution_count": null,
   "id": "9f8f3cf1-3b9c-41e8-bbe3-29efae814ab1",
   "metadata": {},
   "outputs": [],
   "source": [
    "# 평균, 표준 편차, 및 최댓값 계산\n",
    "\n",
    "# 평균 분석\n",
    "print('평균 분석 --------------------------')\n",
    "print(weather.mean())\n",
    "\n",
    "# 표준편차 분석\n",
    "print('표준편차 분석 ----------------------')\n",
    "print(weather.std())\n",
    "\n",
    "# 특정 열('최대풍속', '평균풍속')의 최대값 구하기\n",
    "print(weather[['최대풍속', '평균풍속']].max())\n",
    "\n",
    "# 열(column)별 데이터의 개수 확인\n",
    "weather.count()"
   ]
  },
  {
   "cell_type": "code",
   "execution_count": null,
   "id": "2915d48a-abec-42ea-843f-a8830b5a0436",
   "metadata": {},
   "outputs": [],
   "source": [
    "# 결측치(missing data) 확인\n",
    "\n",
    "missing_data = weather[weather['평균풍속'].isna()] # '평균풍속' 열에서 결측값이 있는 행 추출\n",
    "print(missing_data)"
   ]
  },
  {
   "cell_type": "code",
   "execution_count": null,
   "id": "ce5c7eb1-2a86-4d68-98eb-88c139602ee1",
   "metadata": {},
   "outputs": [],
   "source": [
    "# 결측치를 0으로 대체\n",
    "weather.fillna(0, inplace=True) # inplace=True → 원본 DataFrame을 직접 수정\n",
    "print(weather.loc['2012-02-11'])"
   ]
  },
  {
   "cell_type": "code",
   "execution_count": null,
   "id": "a126af6e-1bf1-4a52-8c1e-f05e7d54dce9",
   "metadata": {},
   "outputs": [],
   "source": [
    "# 결측치를 평균값으로 대체\n",
    "weather.fillna(weather['평균풍속'].mean(), inplace=True) # '평균풍속' 열의 평균값으로 NaN을 채움\n",
    "print(weather.loc['2012-02-11'])"
   ]
  },
  {
   "cell_type": "code",
   "execution_count": null,
   "id": "0b6f7f38-1fd7-4a25-accc-cdc9e5b8db2a",
   "metadata": {},
   "outputs": [],
   "source": [
    "# 그룹화 및 평균값 계산\n",
    "\n",
    "weather = pd.read_csv(weather_file, encoding='CP949') # 한글 인코딩 주의\n",
    "weather['month'] = pd.DatetimeIndex(weather['일시']).month # '일시' 열에서 월(month) 추출\n",
    "means = weather.groupby('month').mean() # month별 그룹화 후 평균 계산\n",
    "\n",
    "print(means)"
   ]
  },
  {
   "cell_type": "code",
   "execution_count": null,
   "id": "0b9ab931-4b15-438a-b4e5-f96677286f88",
   "metadata": {},
   "outputs": [],
   "source": [
    "# 평균 풍속이 4.0이상 데이터 필터링\n",
    "means['평균풍속'] >= 4.0"
   ]
  },
  {
   "cell_type": "code",
   "execution_count": null,
   "id": "b7323a74-32cb-4742-9557-bae61d0ea48c",
   "metadata": {},
   "outputs": [],
   "source": [
    "# 데이터프레임 생성\n",
    "\n",
    "import pandas as pd\n",
    "\n",
    "df_1 = pd.DataFrame({\n",
    "  'item': ['ring0', 'ring0', 'ring1', 'ring1'],\n",
    "  'type': ['Gold', 'Silver', 'Gold', 'Bronze'],\n",
    "  'price': [20000, 10000, 50000, 30000]\n",
    "})\n",
    "\n",
    "print(df_1)"
   ]
  },
  {
   "cell_type": "code",
   "execution_count": null,
   "id": "102056d9-9bc9-467d-9bcd-4b38651d6292",
   "metadata": {},
   "outputs": [],
   "source": [
    "# pivot을 이용한 데이터 구조 변경\n",
    "\n",
    "df_2 = df_1.pivot(index='item', columns='type', values='price')\n",
    "print(df_2)"
   ]
  },
  {
   "cell_type": "code",
   "execution_count": null,
   "id": "2c8e686f-e095-47c0-a192-b0af3c0c0b5f",
   "metadata": {},
   "outputs": [],
   "source": [
    "# 데이터 프레임 생성\n",
    "import pandas as pd\n",
    "\n",
    "df_1 = pd.DataFrame({'A': ['a10', 'a11', 'a12'],\n",
    "                     'B': ['b10', 'b11', 'b12'],\n",
    "                     'C': ['c10', 'c11', 'c12']}, index=['가', '나', '다'])\n",
    "\n",
    "df_2 = pd.DataFrame({'B': ['b23', 'b24', 'b25'],\n",
    "                     'C': ['c23', 'c24', 'c25'],\n",
    "                     'D': ['d23', 'd24', 'd25']}, index=['다', '라', '마'])\n",
    "\n",
    "print(\"df_1\")\n",
    "print(df_1)\n",
    "print(\"\\ndf_2\")\n",
    "print(df_2)"
   ]
  },
  {
   "cell_type": "code",
   "execution_count": null,
   "id": "54cd7f0c-e71a-4ef3-9de2-0821606ed992",
   "metadata": {},
   "outputs": [],
   "source": [
    "# 데이터 프레임 결합\n",
    "\n",
    "df_3 = pd.concat([df_1, df_2])\n",
    "print(df_3)"
   ]
  },
  {
   "cell_type": "code",
   "execution_count": null,
   "id": "be68b885-611c-4733-9fc5-fed220bc88af",
   "metadata": {},
   "outputs": [],
   "source": [
    "# Merge를 이용한 데이터 결합\n",
    "\n",
    "# LEFT OUTER JOIN\n",
    "print(\"left outer\\n\", df_1.merge(df_2, how='left', on='B'))\n",
    "\n",
    "# RIGHT OUTER JOIN\n",
    "print(\"right outer\\n\", df_1.merge(df_2, how='right', on='B'))\n",
    "\n",
    "# FULL OUTER JOIN\n",
    "print(\"full outer\\n\", df_1.merge(df_2, how='outer', on='B'))\n",
    "\n",
    "# INNER JOIN\n",
    "print(\"inner\\n\", df_1.merge(df_2, how='inner', on='B'))"
   ]
  }
 ],
 "metadata": {
  "kernelspec": {
   "display_name": "Python 3 (Spyder)",
   "language": "python3",
   "name": "python3"
  },
  "language_info": {
   "codemirror_mode": {
    "name": "ipython",
    "version": 3
   },
   "file_extension": ".py",
   "mimetype": "text/x-python",
   "name": "python",
   "nbconvert_exporter": "python",
   "pygments_lexer": "ipython3",
   "version": "3.12.3"
  }
 },
 "nbformat": 4,
 "nbformat_minor": 5
}
